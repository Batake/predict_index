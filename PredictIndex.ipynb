{
  "nbformat": 4,
  "nbformat_minor": 0,
  "metadata": {
    "colab": {
      "name": "PredictIndex.ipynb",
      "provenance": [],
      "collapsed_sections": [],
      "authorship_tag": "ABX9TyPoWy0enVh3KxkzgLyFocjp",
      "include_colab_link": true
    },
    "kernelspec": {
      "name": "python3",
      "display_name": "Python 3"
    }
  },
  "cells": [
    {
      "cell_type": "markdown",
      "metadata": {
        "id": "view-in-github",
        "colab_type": "text"
      },
      "source": [
        "<a href=\"https://colab.research.google.com/github/Batake/predict_index/blob/add_ipynb_ver/PredictIndex.ipynb\" target=\"_parent\"><img src=\"https://colab.research.google.com/assets/colab-badge.svg\" alt=\"Open In Colab\"/></a>"
      ]
    },
    {
      "cell_type": "markdown",
      "metadata": {
        "id": "1HR7oZIvALke"
      },
      "source": [
        "# 使い方\n",
        "\n",
        "\n",
        "*   細かい実行方法もあるけど，いったん実行は上の「ランタイム」の「全てのセルを実行」でできる\n",
        "*   パラメータ変えたいときは下の方にある「変更するパラメータ」って書いてある下のとこのパラメータ変えれば良い\n",
        "*   変えられるのは\n",
        "\n",
        "1.   アップロードするファイル名\n",
        "2.   使用する年月の開始時点と終了時点\n",
        "3.   探索する係数範囲の最小値, 最大値\n",
        "4.   探索の試行回数(これはそんな変える必要ない)\n",
        "\n",
        "\n",
        "\n"
      ]
    },
    {
      "cell_type": "markdown",
      "metadata": {
        "id": "ljbmTII7AD-9"
      },
      "source": [
        "### この欄は細かい処理で理解する必要はない 変更できるパラメータの欄はもっと下にある"
      ]
    },
    {
      "cell_type": "code",
      "metadata": {
        "id": "IZ5uX3NY_XZL"
      },
      "source": [
        "from scipy.optimize import curve_fit\n",
        "import numpy as np\n",
        "import pandas as pd\n",
        "from matplotlib import pyplot as plt\n",
        "import sys\n",
        "import math\n",
        "import copy\n",
        "import os\n",
        "from google.colab import files\n",
        "import warnings\n",
        "warnings.simplefilter('ignore')\n",
        "\n",
        "day_month = [31, 28, 31, 30, 31, 30, 31, 31, 30, 31, 30, 31]\n",
        "day_sum = [0] + [sum(day_month[0:(i+1)]) for i in range(11)] #その月までの合計日数: 1月なら0日, 2月までなら0+31=31, 3月までなら0+31+28=59...\n",
        "\n",
        "# データのロードと整理\n",
        "def load_organize_csv(filename):\n",
        "    # ローカルファイルをアップロードされていないならする\n",
        "    if not os.path.isfile(filename):\n",
        "        uploaded = files.upload()\n",
        "\n",
        "    indice = pd.read_csv(filename, header=0, usecols=[0, 1]) #csvの1, 2列目読み込み\n",
        "    indice[\"datetime\"] = pd.to_datetime(indice['Date'])\n",
        "    indice[\"Year\"] = indice['datetime'].dt.year\n",
        "    indice[\"Month\"] = indice['datetime'].dt.month\n",
        "    indice[\"Day\"] = indice['datetime'].dt.day\n",
        "\n",
        "    for i, d_m in enumerate(day_month):\n",
        "        indice[\"Month\"][indice[\"Month\"]-1==i] = day_sum[i] #月をその月までの合計日数に変換\n",
        "    indice['Date_Year'] = indice[\"Year\"] + (indice[\"Month\"] + indice[\"Day\"])/365 # 年, 月, 日をそれまでの合算して年に変換\n",
        "    x = indice[\"Date_Year\"].values\n",
        "    y = indice[\"Open\"].values\n",
        "    return x, y\n",
        "\n",
        "# 探索される対象の関数 今回はあの本の　A+B*(tc -t)^m　を書いたつもり\n",
        "def nonlinear_simple(x, a, b, c, d):\n",
        "    return a + b*(abs(c-x)**d)\n",
        "\n",
        "# 対象の関数の最適なパラメータを計算(係数は a, b, ...d の順に p_opt へ入る)\n",
        "def calculate_target_parameters(x, y, n_try, start_year_, end_year_, bnds):\n",
        "    # 開始年月日, 終了年月日以外のデータを除去\n",
        "    x_copy = copy.deepcopy(x)\n",
        "    x_copy[x_copy<start_year_] = 0\n",
        "    x_copy[x_copy>end_year_] = 0\n",
        "    y_copy = y[x_copy!=0]\n",
        "    x_copy = x[x_copy!=0]\n",
        "    # 最適パラメータを計算\n",
        "    p_opt, _ = curve_fit(nonlinear_simple, x_copy, y_copy, maxfev=n_try, bounds=(\n",
        "                (bnds[\"min_A\"], bnds[\"min_B\"], bnds[\"min_tc\"], bnds[\"min_M\"]), (bnds[\"max_A\"], bnds[\"max_B\"], bnds[\"max_tc\"], bnds[\"max_M\"])))\n",
        "    print(\"A:\", p_opt[0], \", B:\", p_opt[1], \", tc:\", p_opt[2], \", M:\", p_opt[3])\n",
        "    return p_opt\n",
        "\n",
        "# 最適パラメータでのデータを計算\n",
        "def calculate_y_by_p_opt(p_opt, start_year_, end_year_):\n",
        "    # データを計算\n",
        "    x_predicted = np.linspace(start_year_, end_year_+0.5, int((end_year_+0.5-start_year_)/0.1))\n",
        "    y_predicted = [nonlinear_simple(x_p, p_opt[0], p_opt[1], p_opt[2], p_opt[3]) for x_p in x_predicted]\n",
        "\n",
        "    return x_predicted, y_predicted\n",
        "\n",
        "# 年月日を年表記に変換\n",
        "def change_YMD_Year(Year, Month, Day):\n",
        "    Month_ = day_sum[Month-1]\n",
        "    Year_ = Year + (Month_ + Day)/365\n",
        "    return Year_\n",
        "\n",
        "# 年表記を年月日に変換 今は雑な計算\n",
        "def change_Year_YMD(Year_):\n",
        "    Year = int(Year_)\n",
        "    Month = int((Year_ - Year)*12) + 1\n",
        "    Day = int(((Year_ - Year)*12 - (Month - 1)) * 30)\n",
        "    return Year, Month, Day\n",
        "\n",
        "# 誤差の二乗の合計\n",
        "def error_root_mean_squared(x, y, p_opt):\n",
        "    y_predict = [nonlinear_simple(x_, p_opt[0], p_opt[1], p_opt[2], p_opt[3]) for x_ in x]\n",
        "    error = np.mean([(y_ - y_m)**2 for y_, y_m in zip(y, y_predict)])\n",
        "    print(\"実際の値との誤差: \", error)\n",
        "\n",
        "# 暴落日の計算\n",
        "def calculate_explosion(p_opt):\n",
        "    fall_year = p_opt[2]\n",
        "    year, month, day = change_Year_YMD(fall_year)\n",
        "    print(\"暴落日: \" + str(year)+\"年\"+str(month)+\"月\"+str(day)+\"日\")\n",
        "\n",
        "# 実際のデータ, 予測したデータをプロット\n",
        "def plot_raw_and_predicted(x, y, x_predicted, y_predicted):\n",
        "    plt.plot(x, y)\n",
        "    plt.plot(x_predicted, y_predicted)\n",
        "    plt.legend([\"Raw\", \"Predicted\"])\n",
        "    plt.xlabel(\"Year\")\n",
        "    plt.ylabel(\"Value\")\n",
        "\n",
        "# 本での係数\n",
        "# p_opt_book = [327, -79, 87.65, 0.7]\n",
        "\n",
        "# エラー算出\n",
        "# print(\"自分の方法での誤差: \", error_root_mean_squared(x, y, p_opt))\n",
        "# print(\"本での方法での誤差: \", error_root_mean_squared(x, y, p_opt_book))\n",
        "\n",
        "def execute(filename, period_used, bnds, n_try):\n",
        "    x, y = load_organize_csv(filename)\n",
        "    \n",
        "    start_year_ = change_YMD_Year(period_used[\"start_year\"], period_used[\"start_month\"], period_used[\"start_day\"])\n",
        "    end_year_ = change_YMD_Year(period_used[\"end_year\"], period_used[\"end_month\"], period_used[\"end_day\"])\n",
        "\n",
        "    p_opt = calculate_target_parameters(x, y, n_try, start_year_, end_year_, bnds)\n",
        "    x_predicted, y_predicted = calculate_y_by_p_opt(p_opt, start_year_, end_year_)\n",
        "    error_root_mean_squared(x, y, p_opt)\n",
        "    calculate_explosion(p_opt)\n",
        "    plot_raw_and_predicted(x, y, x_predicted, y_predicted)"
      ],
      "execution_count": null,
      "outputs": []
    },
    {
      "cell_type": "markdown",
      "metadata": {
        "id": "Lc7JVxEu_z01"
      },
      "source": [
        "### 変更するパラメータ"
      ]
    },
    {
      "cell_type": "code",
      "metadata": {
        "colab": {
          "resources": {
            "http://localhost:8080/nbextensions/google.colab/files.js": {
              "data": "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",
              "ok": true,
              "headers": [
                [
                  "content-type",
                  "application/javascript"
                ]
              ],
              "status": 200,
              "status_text": ""
            }
          },
          "base_uri": "https://localhost:8080/",
          "height": 391
        },
        "id": "r8LEkBWb9ruF",
        "outputId": "82f4a188-9259-4b73-8b86-5e25a1e3ae9c"
      },
      "source": [
        "# アップロードするファイル名\n",
        "filename = \"indice_ori.csv\"\n",
        "# 使用する年月の開始時点と終了時点\n",
        "# 1985年7月1日: 1985.5年, 1987年8月7日: 1987.6年\n",
        "period_used = {\n",
        "    \"start_year\": 1985,\n",
        "    \"start_month\": 7,\n",
        "    \"start_day\": 1,\n",
        "    \"end_year\": 1987,\n",
        "    \"end_month\": 8,\n",
        "    \"end_day\": 7,\n",
        "}\n",
        "# 探索する係数範囲の最小値, 最大値\n",
        "bnds = {\n",
        "    \"min_A\": -1000,\n",
        "    \"max_A\": 1000,\n",
        "    \"min_B\": -1000,\n",
        "    \"max_B\": 1000,\n",
        "    \"min_tc\": 1987.5,\n",
        "    \"max_tc\": 1990.6,\n",
        "    \"min_M\": 0,\n",
        "    \"max_M\": 10,\n",
        "}\n",
        "# 探索の試行回数 とりあえず10000回でいいと思う\n",
        "n_try = 10000\n",
        "\n",
        "execute(filename, period_used, bnds, n_try)\n",
        "\n"
      ],
      "execution_count": null,
      "outputs": [
        {
          "output_type": "display_data",
          "data": {
            "text/html": [
              "\n",
              "     <input type=\"file\" id=\"files-aa3be221-341c-4d20-b3b1-4725141d26fe\" name=\"files[]\" multiple disabled\n",
              "        style=\"border:none\" />\n",
              "     <output id=\"result-aa3be221-341c-4d20-b3b1-4725141d26fe\">\n",
              "      Upload widget is only available when the cell has been executed in the\n",
              "      current browser session. Please rerun this cell to enable.\n",
              "      </output>\n",
              "      <script src=\"/nbextensions/google.colab/files.js\"></script> "
            ],
            "text/plain": [
              "<IPython.core.display.HTML object>"
            ]
          },
          "metadata": {
            "tags": []
          }
        },
        {
          "output_type": "stream",
          "text": [
            "Saving indice_ori.csv to indice_ori.csv\n",
            "A: 318.9644938623478 , B: -78.27118277317749 , tc: 1987.5999997337524 , M: 0.733185180343629\n",
            "実際の値との誤差:  161.1783967091896\n",
            "暴落日: 1987年8月5日\n"
          ],
          "name": "stdout"
        },
        {
          "output_type": "display_data",
          "data": {
            "image/png": "[encoded data removed]",
            "text/plain": [
              "<Figure size 432x288 with 1 Axes>"
            ]
          },
          "metadata": {
            "tags": [],
            "needs_background": "light"
          }
        }
      ]
    },
    {
      "cell_type": "code",
      "metadata": {
        "id": "osqoDuEWUqHR"
      },
      "source": [
        ""
      ],
      "execution_count": null,
      "outputs": []
    }
  ]
}