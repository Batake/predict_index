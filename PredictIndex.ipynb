{
  "nbformat": 4,
  "nbformat_minor": 0,
  "metadata": {
    "colab": {
      "name": "PredictIndex.ipynb",
      "provenance": [],
      "collapsed_sections": [],
      "include_colab_link": true
    },
    "kernelspec": {
      "name": "python3",
      "display_name": "Python 3"
    }
  },
  "cells": [
    {
      "cell_type": "markdown",
      "metadata": {
        "id": "view-in-github",
        "colab_type": "text"
      },
      "source": [
        "<a href=\"https://colab.research.google.com/github/Batake/predict_index/blob/add_ipynb_ver/PredictIndex.ipynb\" target=\"_parent\"><img src=\"https://colab.research.google.com/assets/colab-badge.svg\" alt=\"Open In Colab\"/></a>"
      ]
    },
    {
      "cell_type": "markdown",
      "metadata": {
        "id": "1HR7oZIvALke"
      },
      "source": [
        "# 使い方\n",
        "\n",
        "\n",
        "*   細かい実行方法もあるけど，いったん実行は上の「ランタイム」の「全てのセルを実行」でできる\n",
        "*   パラメータ変えたいときは下の方にある「変更するパラメータ」って書いてある下のとこのパラメータ変えれば良い\n",
        "*   変えられるのは\n",
        "\n",
        "1.   アップロードするファイル名\n",
        "2.   使用する年月の開始時点と終了時点\n",
        "3.   探索する係数範囲の最小値, 最大値\n",
        "4.   探索の試行回数(これはそんな変える必要ない)\n",
        "\n",
        "\n",
        "\n"
      ]
    },
    {
      "cell_type": "markdown",
      "metadata": {
        "id": "ljbmTII7AD-9"
      },
      "source": [
        "### この欄は細かい処理で理解する必要はない 変更できるパラメータの欄はもっと下にある"
      ]
    },
    {
      "cell_type": "code",
      "metadata": {
        "id": "IZ5uX3NY_XZL"
      },
      "source": [
        "from scipy.optimize import curve_fit\n",
        "import numpy as np\n",
        "import pandas as pd\n",
        "from matplotlib import pyplot as plt\n",
        "import sys\n",
        "import math\n",
        "import copy\n",
        "import os\n",
        "from google.colab import files, drive\n",
        "import warnings\n",
        "warnings.simplefilter('ignore')\n",
        "\n",
        "day_month = [31, 28, 31, 30, 31, 30, 31, 31, 30, 31, 30, 31]\n",
        "day_sum = [0] + [sum(day_month[0:(i+1)]) for i in range(11)] #その月までの合計日数: 1月なら0日, 2月までなら0+31=31, 3月までなら0+31+28=59...\n",
        "\n",
        "# データのロードと整理\n",
        "def load_organize_csv(filename):\n",
        "    indice = pd.read_csv(\"/content/drive/My Drive/株価予測プログラム/\" + filename, header=0, usecols=[0, 1]) #csvの1, 2列目読み込み\n",
        "    indice[\"datetime\"] = pd.to_datetime(indice['Date'])\n",
        "    indice[\"Year\"] = indice['datetime'].dt.year\n",
        "    indice[\"Month\"] = indice['datetime'].dt.month\n",
        "    indice[\"Day\"] = indice['datetime'].dt.day\n",
        "\n",
        "    for i, d_m in enumerate(day_month):\n",
        "        indice[\"Month\"][indice[\"Month\"]-1==i] = day_sum[i] #月をその月までの合計日数に変換\n",
        "    indice['Date_Year'] = indice[\"Year\"] + (indice[\"Month\"] + indice[\"Day\"])/365 # 年, 月, 日をそれまでの合算して年に変換\n",
        "    x = indice[\"Date_Year\"].values\n",
        "    y = indice[\"Open\"].values\n",
        "    return x, y\n",
        "\n",
        "# 探索される対象の関数 今回はあの本の　A+B*(tc -t)^m　を書いたつもり\n",
        "def nonlinear_simple(x, a, b, c, d):\n",
        "    return a + b*(abs(c-x)**d)\n",
        "\n",
        "# 対象の関数の最適なパラメータを計算(係数は a, b, ...d の順に p_opt へ入る)\n",
        "def calculate_target_parameters(x, y, n_try, start_year_, end_year_, bnds):\n",
        "    # 開始年月日, 終了年月日以外のデータを除去\n",
        "    x_copy = copy.deepcopy(x)\n",
        "    x_copy[x_copy<start_year_] = 0\n",
        "    x_copy[x_copy>end_year_] = 0\n",
        "    y_copy = y[x_copy!=0]\n",
        "    x_copy = x[x_copy!=0]\n",
        "    # 最適パラメータを計算\n",
        "    p_opt, _ = curve_fit(nonlinear_simple, x_copy, y_copy, maxfev=n_try, bounds=(\n",
        "                (bnds[\"min_A\"], bnds[\"min_B\"], bnds[\"min_tc\"], bnds[\"min_M\"]), (bnds[\"max_A\"], bnds[\"max_B\"], bnds[\"max_tc\"], bnds[\"max_M\"])))\n",
        "    print(\"A:\", p_opt[0], \", B:\", p_opt[1], \", tc:\", p_opt[2], \", M:\", p_opt[3])\n",
        "    return p_opt\n",
        "\n",
        "# 最適パラメータでのデータを計算\n",
        "def calculate_y_by_p_opt(p_opt, start_year_, end_year_):\n",
        "    # データを計算\n",
        "    x_predicted = np.linspace(start_year_, p_opt[2]+1, int((p_opt[2]+1-start_year_)/0.1))\n",
        "    y_predicted = [nonlinear_simple(x_p, p_opt[0], p_opt[1], p_opt[2], p_opt[3]) for x_p in x_predicted]\n",
        "\n",
        "    return x_predicted, y_predicted\n",
        "\n",
        "# 年月日を年表記に変換\n",
        "def change_YMD_Year(Year, Month, Day):\n",
        "    Month_ = day_sum[Month-1]\n",
        "    Year_ = Year + (Month_ + Day)/365\n",
        "    return Year_\n",
        "\n",
        "# 年表記を年月日に変換 今は雑な計算\n",
        "def change_Year_YMD(Year_):\n",
        "    Year = int(Year_)\n",
        "    Month = int((Year_ - Year)*12) + 1\n",
        "    Day = int(((Year_ - Year)*12 - (Month - 1)) * 30)\n",
        "    return Year, Month, Day\n",
        "\n",
        "# 誤差の二乗の合計\n",
        "def error_root_mean_squared(x, y, p_opt):\n",
        "    y_predict = [nonlinear_simple(x_, p_opt[0], p_opt[1], p_opt[2], p_opt[3]) for x_ in x]\n",
        "    error = np.mean([(y_ - y_m)**2 for y_, y_m in zip(y, y_predict)])\n",
        "    print(\"実際の値との誤差: \", error)\n",
        "\n",
        "# 暴落日の計算\n",
        "def calculate_explosion(p_opt):\n",
        "    fall_year = p_opt[2]\n",
        "    year, month, day = change_Year_YMD(fall_year)\n",
        "    print(\"暴落日: \" + str(year)+\"年\"+str(month)+\"月\"+str(day)+\"日\")\n",
        "\n",
        "# 実際のデータ, 予測したデータをプロット\n",
        "def plot_raw_and_predicted(x, y, x_predicted, y_predicted):\n",
        "    plt.plot(x, y)\n",
        "    plt.plot(x_predicted, y_predicted)\n",
        "    plt.legend([\"Raw\", \"Predicted\"])\n",
        "    plt.xlabel(\"Year\")\n",
        "    plt.ylabel(\"Value\")\n",
        "\n",
        "# 本での係数\n",
        "# p_opt_book = [327, -79, 87.65, 0.7]\n",
        "\n",
        "# エラー算出\n",
        "# print(\"自分の方法での誤差: \", error_root_mean_squared(x, y, p_opt))\n",
        "# print(\"本での方法での誤差: \", error_root_mean_squared(x, y, p_opt_book))\n",
        "\n",
        "def execute(filename, period_used, bnds, n_try):\n",
        "    x, y = load_organize_csv(filename)\n",
        "    \n",
        "    start_year_ = change_YMD_Year(period_used[\"start_year\"], period_used[\"start_month\"], period_used[\"start_day\"])\n",
        "    end_year_ = change_YMD_Year(period_used[\"end_year\"], period_used[\"end_month\"], period_used[\"end_day\"])\n",
        "\n",
        "    p_opt = calculate_target_parameters(x, y, n_try, start_year_, end_year_, bnds)\n",
        "    x_predicted, y_predicted = calculate_y_by_p_opt(p_opt, start_year_, end_year_)\n",
        "    error_root_mean_squared(x, y, p_opt)\n",
        "    calculate_explosion(p_opt)\n",
        "    plot_raw_and_predicted(x, y, x_predicted, y_predicted)"
      ],
      "execution_count": 26,
      "outputs": []
    },
    {
      "cell_type": "markdown",
      "metadata": {
        "id": "Lc7JVxEu_z01"
      },
      "source": [
        "### 変更するパラメータ"
      ]
    },
    {
      "cell_type": "code",
      "metadata": {
        "id": "r8LEkBWb9ruF"
      },
      "source": [
        "drive.mount('/content/drive')\n",
        "# アップロードするファイル名\n",
        "filename = \"VOO.csv\"\n",
        "# 使用する年月の開始時点と終了時点\n",
        "# 1985.5年: 1985年7月1日, 1987.6年: 1987年8月7日\n",
        "period_used = {\n",
        "    \"start_year\": 2019,\n",
        "    \"start_month\": 7,\n",
        "    \"start_day\": 2,\n",
        "    \"end_year\": 2020,\n",
        "    \"end_month\": 2,\n",
        "    \"end_day\": 13,\n",
        "}\n",
        "# 探索する係数範囲の最小値, 最大値\n",
        "bnds = {\n",
        "    \"min_A\": -10000,\n",
        "    \"max_A\": 10000,\n",
        "    \"min_B\": -10000,\n",
        "    \"max_B\": 10000,\n",
        "    \"min_tc\": 2019,\n",
        "    \"max_tc\": 2025,\n",
        "    \"min_M\": 0,\n",
        "    \"max_M\": 10,\n",
        "}\n",
        "# 探索の試行回数 とりあえず10000回でいいと思う\n",
        "n_try = 10000\n",
        "\n",
        "execute(filename, period_used, bnds, n_try)\n",
        "\n"
      ],
      "execution_count": null,
      "outputs": []
    },
    {
      "cell_type": "code",
      "metadata": {
        "id": "Mdg4qAk8HX4g"
      },
      "source": [
        ""
      ],
      "execution_count": null,
      "outputs": []
    }
  ]
}